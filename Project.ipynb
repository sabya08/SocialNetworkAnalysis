{
 "cells": [
  {
   "cell_type": "markdown",
   "metadata": {},
   "source": [
    "#PROJECT : Analysis of Users Preferences between Android and iOS \n",
    "Here we'll implement a sentiment analysis analysisng preferences of users between Android and iOS.\n"
   ]
  },
  {
   "cell_type": "code",
   "execution_count": 1,
   "metadata": {
    "collapsed": false
   },
   "outputs": [],
   "source": [
    "import json, time, sys, io, pickle\n",
    "import re\n",
    "import tweepy\n",
    "import nltk\n",
    "import numpy as np\n",
    "import hashlib\n",
    "import glob\n",
    "import math\n",
    "from sklearn.cross_validation import KFold\n",
    "from sklearn.feature_extraction.text import CountVectorizer\n",
    "from sklearn.linear_model import LogisticRegression\n",
    "from sklearn.metrics import accuracy_score\n",
    "from decimal import *\n",
    "from __future__ import division\n",
    "from matplotlib import pyplot as plt\n",
    "from tweepy.streaming import StreamListener\n",
    "from tweepy import OAuthHandler\n",
    "from tweepy import Stream\n",
    "from matplotlib.backends.backend_pdf import PdfPages\n",
    "%matplotlib inline"
   ]
  },
  {
   "cell_type": "markdown",
   "metadata": {},
   "source": [
    "#Collecting twitter data"
   ]
  },
  {
   "cell_type": "code",
   "execution_count": 2,
   "metadata": {
    "collapsed": false
   },
   "outputs": [],
   "source": [
    "##Twiiter configuration information\n",
    "\n",
    "access_token = \"<access_token>\"\n",
    "access_token_secret = \"<secret_token>\"\n",
    "consumer_key = \"<consumer_key>\"\n",
    "consumer_secret = \"<consumer_secret>\"\n",
    "\n",
    "auth = tweepy.OAuthHandler(consumer_key, consumer_secret)\n",
    "auth.set_access_token(access_token, access_token_secret)\n"
   ]
  },
  {
   "cell_type": "code",
   "execution_count": 3,
   "metadata": {
    "collapsed": false
   },
   "outputs": [],
   "source": [
    "##This class uses Tweepy to download tweets from Twitter streaming API\n",
    "class TweetsListener(tweepy.StreamListener):\n",
    "\n",
    "    def __init__(self, filename=None, api=None):\n",
    "        super(TweetsListener, self).__init__()\n",
    "        self.num_tweets = 0\n",
    "        self.filename = filename\n",
    "        self.stopHashTagList = [\"#androidgames\",\"#gamesinsight\"]\n",
    "        \n",
    "    def on_status(self, status): \n",
    "        text = status.text.encode('utf-8').strip().lower()\n",
    "        if not any(x in text for x in self.stopHashTagList) and not text.startswith('rt') and not text.startswith('RT'):\n",
    "            record = {'Text': text, 'Created At': str(status.created_at)}\n",
    "            if self.num_tweets < 1000:\n",
    "                try:\n",
    "                    with open(self.filename, 'a') as f:\n",
    "                        print text\n",
    "                        pickle.dump(record,f)\n",
    "                        self.num_tweets += 1\n",
    "                    return True\n",
    "                except BaseException as e:\n",
    "                    print(\"Error on_status: %s\" % str(e))\n",
    "            else:\n",
    "                return False\n",
    "        \n",
    "    def on_error(self, status):\n",
    "        print 'Error on status', status\n",
    "\n",
    "    def on_limit(self, status):\n",
    "        print 'Limit threshold exceeded', status\n",
    "\n",
    "    def on_timeout(self, status):\n",
    "        print 'Stream disconnected; continuing...'"
   ]
  },
  {
   "cell_type": "code",
   "execution_count": 4,
   "metadata": {
    "collapsed": false
   },
   "outputs": [],
   "source": [
    "# stream = Stream(auth, TweetsListener(filename = 'data_android.json'))\n",
    "# stream.filter(track=['android','androidvsios','iosvsandroid'],languages=['en'])"
   ]
  },
  {
   "cell_type": "code",
   "execution_count": 6,
   "metadata": {
    "collapsed": true
   },
   "outputs": [],
   "source": [
    "# stream = Stream(auth, TweetsListener(filename = 'data_ios.json'))\n",
    "# stream.filter(track=['iphone','ios','androidvsios','iosvsandroid'],languages=['en'])"
   ]
  },
  {
   "cell_type": "code",
   "execution_count": 7,
   "metadata": {
    "collapsed": false
   },
   "outputs": [],
   "source": [
    "##This method reads all the tweets from the file\n",
    "def readTweets(filename):\n",
    "    list = []\n",
    "    with open(filename, 'r') as f:\n",
    "        for x in range(0,1000):\n",
    "            list.append(pickle.load(f)['Text'])\n",
    "    return list\n"
   ]
  },
  {
   "cell_type": "markdown",
   "metadata": {},
   "source": [
    "#Calculating Sentiments using Naive Bayes as Classifier"
   ]
  },
  {
   "cell_type": "code",
   "execution_count": 8,
   "metadata": {
    "collapsed": true
   },
   "outputs": [],
   "source": [
    "##This method helps in tokenizing tweets with punctuations\n",
    "def tokenize_with_punct(text):\n",
    "    \"\"\"Given a string, return a list of tokens such that: (1) all\n",
    "    tokens are lowercase, (2) all punctuation is kept as separate tokens.\n",
    "    Note that underscore (_) is not considered punctuation.\n",
    "    Params:\n",
    "        text....a string\n",
    "    Returns:\n",
    "        a list of tokens\n",
    "    \"\"\"\n",
    "    ###TODO\n",
    "    text = re.sub(r'[\\x85]',\"\",text)\n",
    "    tokens = re.findall(r\"[\\w]+|[^\\s\\w]\", text.lower())\n",
    "    return tokens"
   ]
  },
  {
   "cell_type": "code",
   "execution_count": 9,
   "metadata": {
    "collapsed": false
   },
   "outputs": [],
   "source": [
    "##This method uses tokenize_with_punct and adds prefix to two subsequent terms after not\n",
    "def tokenize_with_not(text):\n",
    "    \"\"\"Does the same thing as tokenize_with_punct, with the following difference:\n",
    "    whenever the term 'not' appears, change the two subsequent tokens to have the prefix\n",
    "    'not_' prior to the token. See the example below. You may call \n",
    "    tokenize_with_punct as a subroutine.\n",
    "    Params:\n",
    "        text....a string\n",
    "    Returns:\n",
    "        a list of tokens\n",
    "    \"\"\"\n",
    "    ###TODO\n",
    "    text = re.sub(r'[\\x85]',\"\",text)\n",
    "    tokens = tokenize_with_punct(text)\n",
    "    i=0\n",
    "    while i< len(tokens):\n",
    "        if tokens[i] == \"not\":\n",
    "            if(i+1 < len(tokens)):\n",
    "                tokens[i+1] = 'not_' + tokens[i+1]\n",
    "            if(i+2 < len(tokens)):\n",
    "                tokens[i+2] = 'not_' + tokens[i+2]\n",
    "            i = i+3\n",
    "        else:\n",
    "            i = i+1\n",
    "    \n",
    "    return tokens"
   ]
  },
  {
   "cell_type": "code",
   "execution_count": 10,
   "metadata": {
    "collapsed": true
   },
   "outputs": [],
   "source": [
    "#This code reads the tweets from the json file and writes them to the text file\n",
    "def writeListToTextFile(list,filename):\n",
    "    f = open(filename, \"w\")\n",
    "    for item in list:\n",
    "      print>>f, item"
   ]
  },
  {
   "cell_type": "code",
   "execution_count": 11,
   "metadata": {
    "collapsed": false
   },
   "outputs": [],
   "source": [
    "# list_android = readTweets('data_android.json')\n",
    "# writeListToTextFile(list_android,'data_android.txt')\n",
    "# list_ios = readTweets('data_ios.json')\n",
    "# writeListToTextFile(list_ios,'data_ios.txt')"
   ]
  },
  {
   "cell_type": "code",
   "execution_count": 12,
   "metadata": {
    "collapsed": true
   },
   "outputs": [],
   "source": [
    "#reads a stopwords from a file and converts it into a list\n",
    "stopWords = []\n",
    "def getStopWordList(stopWordListFileName):\n",
    "    stopWords.append('AT_USER')\n",
    "    stopWords.append('URL')\n",
    "\n",
    "    fp = open(stopWordListFileName, 'r')\n",
    "    line = fp.readline()\n",
    "    #print line\n",
    "    while line:\n",
    "        word = line.strip()\n",
    "        stopWords.append(word)\n",
    "        line = fp.readline()\n",
    "    fp.close()\n",
    "    return stopWords\n",
    "stopWords = getStopWordList('stopwords.txt')"
   ]
  },
  {
   "cell_type": "code",
   "execution_count": 13,
   "metadata": {
    "collapsed": false
   },
   "outputs": [],
   "source": [
    "#this method processes the tweets by removing URL's, username, additional white spaces and replaces hashtags\n",
    "#normal words\n",
    "def processTweet(tweet):\n",
    "    # process the tweets\n",
    "    #Convert to lower case\n",
    "    tweet = tweet.lower()\n",
    "    #Convert www.* or https?://* to URL\n",
    "    tweet = re.sub('((www\\.[^\\s]+)|(https?://[^\\s]+))','URL',tweet)\n",
    "    #Convert @username to AT_USER\n",
    "    tweet = re.sub('@[^\\s]+','AT_USER',tweet)\n",
    "    #Remove additional white spaces\n",
    "    tweet = re.sub('[\\s]+', ' ', tweet)\n",
    "    #Replace #word with word\n",
    "    tweet = re.sub(r'#([^\\s]+)', r'\\1', tweet)\n",
    "    #trim\n",
    "    tweet = tweet.strip('\\'\"')\n",
    "    return tweet\n",
    "#end\n",
    "\n",
    "#Read the tweets one by one and process it\n"
   ]
  },
  {
   "cell_type": "code",
   "execution_count": 14,
   "metadata": {
    "collapsed": true
   },
   "outputs": [],
   "source": [
    "def processTweetsAndSave(filename):\n",
    "    fp = open(filename, 'r')\n",
    "    fpn = open('process'+filename,'w')\n",
    "    line = fp.readline()\n",
    "    while line:\n",
    "        processedTweet = processTweet(line)\n",
    "        print>>fpn, processedTweet\n",
    "        line = fp.readline()\n",
    "    #end loop\n",
    "    fp.close()"
   ]
  },
  {
   "cell_type": "code",
   "execution_count": 15,
   "metadata": {
    "collapsed": false
   },
   "outputs": [],
   "source": [
    "# processTweetsAndSave('data_android.txt')\n",
    "# processTweetsAndSave('data_ios.txt')"
   ]
  },
  {
   "cell_type": "code",
   "execution_count": 16,
   "metadata": {
    "collapsed": true
   },
   "outputs": [],
   "source": [
    "def replaceTwoOrMore(s):\n",
    "    pattern = re.compile(r\"(.)\\1{1,}\", re.DOTALL)\n",
    "    return pattern.sub(r\"\\1\\1\", s)"
   ]
  },
  {
   "cell_type": "code",
   "execution_count": 17,
   "metadata": {
    "collapsed": true
   },
   "outputs": [],
   "source": [
    "##gets the feature vector for a given tweet\n",
    "##need to comapre with tokenize_with_not\n",
    "##tokenize_normal\n",
    "def tokenize_normal(tweet):\n",
    "    featureVector = []\n",
    "    words = set(tweet)\n",
    "    for w in words:\n",
    "        w = replaceTwoOrMore(w)\n",
    "        w = w.strip('\\'\"?,.')\n",
    "        val = re.search(r\"^[a-zA-Z][a-zA-Z0-9]*$\", w)\n",
    "        if(w in stopWords or val is None):\n",
    "            continue\n",
    "        else:\n",
    "            featureVector.append(w.lower())\n",
    "    return featureVector"
   ]
  },
  {
   "cell_type": "code",
   "execution_count": 18,
   "metadata": {
    "collapsed": false
   },
   "outputs": [],
   "source": [
    "featureList = []\n",
    "def featureExtraction(filename, tokenizeFn = \"tokenize_with_not\"):\n",
    "    tweets = []\n",
    "    fp = open(filename,'r')\n",
    "    line = fp.readline()\n",
    "    while line:\n",
    "        linearray = line.split('-',1)\n",
    "        sentiment = linearray[0]\n",
    "        tweet = linearray[1]\n",
    "        processedTweet = (tweet)\n",
    "        if tokenizeFn == \"tokenize_with_not\":\n",
    "            featureVector = tokenize_with_not(processedTweet)\n",
    "        elif tokenizeFn == \"tokenize_normal\":\n",
    "            featureVector = tokenize_normal(processedTweet)\n",
    "        featureList.extend(featureVector)\n",
    "        tweets.append((featureVector,sentiment))\n",
    "        line = fp.readline()  \n",
    "    return(tweets,featureList)"
   ]
  },
  {
   "cell_type": "code",
   "execution_count": 19,
   "metadata": {
    "collapsed": true
   },
   "outputs": [],
   "source": [
    "##this method reads all the tweets froma file and returns a list of tweets \n",
    "def getStatisticsAboutTweets(filename):\n",
    "    fp = open(filename,'r')\n",
    "    tweets = []\n",
    "    line = fp.readline()\n",
    "    while line:\n",
    "        tweets.append(line)\n",
    "        line = fp.readline()\n",
    "    return tweets"
   ]
  },
  {
   "cell_type": "code",
   "execution_count": 20,
   "metadata": {
    "collapsed": true
   },
   "outputs": [],
   "source": [
    "def extract_features(tweet):\n",
    "    tweet_words = set(tweet)\n",
    "    features = {}\n",
    "    for word in featureList:\n",
    "        features['contains(%s)' % word] = (word in tweet_words)\n",
    "    \n",
    "    return features"
   ]
  },
  {
   "cell_type": "code",
   "execution_count": 21,
   "metadata": {
    "collapsed": false
   },
   "outputs": [],
   "source": [
    "def plotBarGraph(classification1, classification2, dataRange, N=3):\n",
    "    with PdfPages('naive_bayes_pdf.pdf') as pdf:\n",
    "        index = np.arange(N)\n",
    "        bar_width = 0.35\n",
    "        fig, ax = plt.subplots()\n",
    "        opacity = 0.4\n",
    "        error_config = {'ecolor': '0.3'}\n",
    "\n",
    "        rects1 = plt.bar(index, classification1, bar_width,\n",
    "                         alpha=opacity,\n",
    "                         color='b',\n",
    "                         error_kw=error_config,\n",
    "                         label='iOS')\n",
    "\n",
    "        rects2 = plt.bar(index + bar_width, classification2, bar_width,\n",
    "                         alpha=opacity,\n",
    "                         color='r',\n",
    "                         error_kw=error_config,\n",
    "                         label='Android')\n",
    "\n",
    "        plt.xlabel('Sentiment Classification')\n",
    "        plt.ylabel('Number of tweets')\n",
    "        plt.title('Sentiment Classification of Tweets')\n",
    "        plt.xticks(index + bar_width, ('Positve', 'Neutral', 'Negative'))\n",
    "        plt.yticks(dataRange)\n",
    "        plt.legend()\n",
    "\n",
    "        plt.tight_layout()\n",
    "        plt.show()\n",
    "        pdf.savefig(fig)"
   ]
  },
  {
   "cell_type": "code",
   "execution_count": 22,
   "metadata": {
    "collapsed": false
   },
   "outputs": [],
   "source": [
    "def predictUserPreferences_nb(trainFileName, testFileName,osType,tokenizeFn = \"tokenize_with_not\"):\n",
    "    featureList = []\n",
    "    os = ''\n",
    "    if osType == 'iOS':\n",
    "        os = 'iOS'\n",
    "    elif osType == 'android':\n",
    "        os = 'Android'\n",
    "    predictedNegativeTweetsLabel = []\n",
    "    predictedPositiveTweetsLabel = []\n",
    "    predictedNeutralTweetsLabel = []\n",
    "    if tokenizeFn == \"tokenize_with_not\":\n",
    "        tweets,featureList = featureExtraction(trainFileName, tokenizeFn = 'tokenize_with_not')\n",
    "    elif tokenizeFn == \"tokenize_normal\":\n",
    "        tweets,featureList = featureExtraction(trainFileName, tokenizeFn = 'tokenize_normal')\n",
    "    training_set =  nltk.classify.util.apply_features(extract_features, tweets)\n",
    "    NBClassifier = nltk.NaiveBayesClassifier.train(training_set)\n",
    "    analyzedTweets = getStatisticsAboutTweets(testFileName)\n",
    "    print \"Total tweets analyzed : \" + str(len(analyzedTweets))\n",
    "   \n",
    "    for tweet in analyzedTweets:\n",
    "        processedTestTweet = processTweet(tweet)\n",
    "        if tokenizeFn == \"tokenize_with_not\":\n",
    "            label = NBClassifier.classify(extract_features(tokenize_with_not(processedTestTweet)))\n",
    "        elif tokenizeFn == \"tokenize_normal\":\n",
    "            label = NBClassifier.classify(extract_features(tokenize_normal(processedTestTweet)))\n",
    "        if label == 'n':\n",
    "            predictedNegativeTweetsLabel.append((tweet,label))\n",
    "        elif label == 'p':\n",
    "            predictedPositiveTweetsLabel.append((tweet,label))\n",
    "        elif label == 'ne':\n",
    "            predictedNeutralTweetsLabel.append((tweet,label))\n",
    "            \n",
    "    percentPositive = (len(predictedPositiveTweetsLabel)/len(analyzedTweets)) * 100\n",
    "    percentNegative = (len(predictedNegativeTweetsLabel)/len(analyzedTweets)) * 100\n",
    "    percentNeutral = (len(predictedNeutralTweetsLabel)/len(analyzedTweets)) * 100\n",
    "    print \"Positive Percentage \" + str(percentPositive)\n",
    "    print \"Negative Percentage \" + str(percentNegative)\n",
    "    print \"Neutral Percentage \" + str(percentNeutral)\n",
    "    \n",
    "    if(percentPositive > percentNegative):\n",
    "        print \"Users prefer \"+os+\" more!!\"\n",
    "    elif(percentPositive < percentNegative):\n",
    "        print \"Users dont prefer \"+os+\"!!\"\n",
    "    elif(percentPositive == percentNegative):\n",
    "        print \"User preferences are neutral\"\n",
    "\n",
    "    #plot graph\n",
    "    classification = [len(predictedPositiveTweetsLabel),len(predictedNeutralTweetsLabel),len(predictedNegativeTweetsLabel)]\n",
    "    \n",
    "    return classification\n",
    "#     plotBarGraph(classification,dataRange)\n",
    "    "
   ]
  },
  {
   "cell_type": "code",
   "execution_count": 28,
   "metadata": {
    "collapsed": false
   },
   "outputs": [
    {
     "name": "stdout",
     "output_type": "stream",
     "text": [
      "=======================Analysis of iOS tweets==========================\n",
      "Total tweets analyzed : 500\n",
      "Positive Percentage 15.2\n",
      "Negative Percentage 3.4\n",
      "Neutral Percentage 81.4\n",
      "Users prefer iOS more!!\n",
      "=======================Analysis of Android tweets==========================\n",
      "Total tweets analyzed : 500\n",
      "Positive Percentage 7.0\n",
      "Negative Percentage 10.0\n",
      "Neutral Percentage 83.0\n",
      "Users dont prefer Android!!\n"
     ]
    },
    {
     "data": {
      "image/png": "[encoded data removed]",
      "text/plain": [
       "<matplotlib.figure.Figure at 0x10b408710>"
      ]
     },
     "metadata": {},
     "output_type": "display_data"
    }
   ],
   "source": [
    "print \"=======================Analysis of iOS tweets==========================\"\n",
    "classification1 = predictUserPreferences_nb('data/train_ios.txt','data/test_500ios.txt','iOS',tokenizeFn= \"tokenize_with_not\")\n",
    "print \"=======================Analysis of Android tweets==========================\"\n",
    "classification2 = predictUserPreferences_nb('data/train_android.txt','data/test_500android.txt','android',tokenizeFn= \"tokenize_with_not\")\n",
    "dataRange = np.arange(0,500,50)\n",
    "plotBarGraph(classification1,classification2,dataRange)"
   ]
  },
  {
   "cell_type": "code",
   "execution_count": 29,
   "metadata": {
    "collapsed": false
   },
   "outputs": [
    {
     "name": "stdout",
     "output_type": "stream",
     "text": [
      "=======================Analysis of iOS tweets==========================\n",
      "Total tweets analyzed : 1000\n",
      "Positive Percentage 22.2\n",
      "Negative Percentage 2.1\n",
      "Neutral Percentage 75.7\n",
      "Users prefer iOS more!!\n",
      "=======================Analysis of Android tweets==========================\n",
      "Total tweets analyzed : 1000\n",
      "Positive Percentage 6.1\n",
      "Negative Percentage 7.1\n",
      "Neutral Percentage 86.8\n",
      "Users dont prefer Android!!\n"
     ]
    },
    {
     "data": {
      "image/png": "[encoded data removed]",
      "text/plain": [
       "<matplotlib.figure.Figure at 0x10b6750d0>"
      ]
     },
     "metadata": {},
     "output_type": "display_data"
    }
   ],
   "source": [
    "print \"=======================Analysis of iOS tweets==========================\"\n",
    "classification1 = predictUserPreferences_nb('data/train_ios.txt','data/test_1000ios.txt','iOS',tokenizeFn= \"tokenize_with_not\")\n",
    "print \"=======================Analysis of Android tweets==========================\"\n",
    "classification2 = predictUserPreferences_nb('data/train_android.txt','data/test_1000android.txt','android',tokenizeFn= \"tokenize_with_not\")\n",
    "dataRange = np.arange(0,1000,100)\n",
    "plotBarGraph(classification1,classification2,dataRange)"
   ]
  },
  {
   "cell_type": "code",
   "execution_count": 30,
   "metadata": {
    "collapsed": false
   },
   "outputs": [
    {
     "name": "stdout",
     "output_type": "stream",
     "text": [
      "=======================Analysis of iOS tweets==========================\n",
      "Total tweets analyzed : 1500\n",
      "Positive Percentage 21.2\n",
      "Negative Percentage 1.46666666667\n",
      "Neutral Percentage 77.3333333333\n",
      "Users prefer iOS more!!\n",
      "=======================Analysis of Android tweets==========================\n",
      "Total tweets analyzed : 1500\n",
      "Positive Percentage 6.06666666667\n",
      "Negative Percentage 5.53333333333\n",
      "Neutral Percentage 88.4\n",
      "Users prefer Android more!!\n"
     ]
    },
    {
     "data": {
      "image/png": "[encoded data removed]",
      "text/plain": [
       "<matplotlib.figure.Figure at 0x10b630fd0>"
      ]
     },
     "metadata": {},
     "output_type": "display_data"
    }
   ],
   "source": [
    "print \"=======================Analysis of iOS tweets==========================\"\n",
    "classification1 = predictUserPreferences_nb('data/train_ios.txt','data/test_1500ios.txt','iOS',tokenizeFn= \"tokenize_with_not\")\n",
    "print \"=======================Analysis of Android tweets==========================\"\n",
    "classification2 = predictUserPreferences_nb('data/train_android.txt','data/test_1500android.txt','android',tokenizeFn= \"tokenize_with_not\")\n",
    "dataRange = np.arange(0,1500,100)\n",
    "plotBarGraph(classification1,classification2,dataRange)"
   ]
  },
  {
   "cell_type": "markdown",
   "metadata": {
    "collapsed": true
   },
   "source": [
    "# Calculating Sentiments with Logistic Regression as Classifier\n",
    "Calculated sentiments seperately for android and iOS"
   ]
  },
  {
   "cell_type": "code",
   "execution_count": 31,
   "metadata": {
    "collapsed": true
   },
   "outputs": [],
   "source": [
    "trainiosfilename = 'data/train_ios.txt'\n",
    "trainandroidfilename = 'data/train_android.txt'"
   ]
  },
  {
   "cell_type": "code",
   "execution_count": 32,
   "metadata": {
    "collapsed": false
   },
   "outputs": [
    {
     "name": "stdout",
     "output_type": "stream",
     "text": [
      "first 3 and last 3 labels are: [ 0  0 -1 -1  0 -1]\n",
      "first 3 and last 3 labels are: [-1 -1  0 -1 -1 -1]\n"
     ]
    }
   ],
   "source": [
    "def get_true_labels(file_name):\n",
    "    \"\"\"Return a *numpy array* of ints for the true sentiment labels of each file.\n",
    "    1 means positive, 0 means negative, -1 means neutral. Use the name of the file to determine\n",
    "    the true label.\n",
    "    Params:\n",
    "        file_name....file containing labelled tweets\n",
    "    Returns:\n",
    "        a numpy array of 1 or 0 values corresponding to each element\n",
    "        of file_names, where 1 indicates a positive review, and 0\n",
    "        indicates a negative review.\n",
    "    \"\"\"\n",
    "    ###TODO\n",
    "    array = []\n",
    "    fp = open(file_name,'r')\n",
    "    line = fp.readline()\n",
    "    while line:\n",
    "        linearray = line.split('-')\n",
    "        if linearray[0] == 'p':\n",
    "            array.append(1)\n",
    "        elif linearray[0] == 'n':\n",
    "            array.append(0)\n",
    "        elif linearray[0] == 'ne':\n",
    "            array.append(-1)\n",
    "        line = fp.readline()\n",
    "    values = np.array(array)\n",
    "    return values\n",
    "    ###\n",
    "\n",
    "labels_ios = get_true_labels(trainiosfilename)\n",
    "print('first 3 and last 3 labels are: %s' % str(labels_ios[[1,2,3,-3,-2,-1]]))\n",
    "labels_android = get_true_labels(trainandroidfilename)\n",
    "print('first 3 and last 3 labels are: %s' % str(labels_android[[1,2,3,-3,-2,-1]]))"
   ]
  },
  {
   "cell_type": "code",
   "execution_count": 33,
   "metadata": {
    "collapsed": false,
    "scrolled": true
   },
   "outputs": [
    {
     "data": {
      "text/plain": [
       "['hi',\n",
       " 'how',\n",
       " 's',\n",
       " 'it',\n",
       " 'going',\n",
       " 'an_underscore',\n",
       " 'is',\n",
       " 'not',\n",
       " 'really',\n",
       " 'punctuation']"
      ]
     },
     "execution_count": 33,
     "metadata": {},
     "output_type": "execute_result"
    }
   ],
   "source": [
    "def tokenize(text):\n",
    "    \"\"\"Given a string, return a list of tokens such that: (1) all\n",
    "    tokens are lowercase, (2) all punctuation is removed. Note that\n",
    "    underscore (_) is not considered punctuation.\n",
    "    UPDATE: To be more specific, a token is a sequence of \n",
    "    alphanumeric characters, i.e., [A-Za-z0-9_]. Non-ascii characters\n",
    "    are not considered to be part of tokens.\n",
    "    Params:\n",
    "        text....a string\n",
    "    Returns:\n",
    "        a list of tokens\n",
    "    \"\"\"\n",
    "    text = re.sub(r'[\\x85]',\"\",text)\n",
    "    return re.sub('\\W+', ' ', text.lower()).split()\n",
    "\n",
    "tokenize(\"Hi! How's it going??? an_underscore is not *really* punctuation.\")"
   ]
  },
  {
   "cell_type": "code",
   "execution_count": 34,
   "metadata": {
    "collapsed": false,
    "scrolled": true
   },
   "outputs": [
    {
     "name": "stdout",
     "output_type": "stream",
     "text": [
      "matrix ios represents 498 tweets with 1502 features\n",
      "first doc has terms:\n",
      "[12, 195, 265, 813, 817, 993, 1025, 1307, 1372]\n",
      "matrix android represents 477 tweets with 1923 features\n",
      "first doc has terms:\n",
      "[2, 5, 12, 13, 14, 52, 235, 241, 242, 300, 306, 338, 487, 805, 857, 859, 967, 1124, 1177, 1249, 1509, 1526, 1585, 1698, 1713]\n"
     ]
    }
   ],
   "source": [
    "def do_vectorize(filename, tokenizer_fn=tokenize_with_not, min_df=1,\n",
    "                 max_df=1., binary=True, ngram_range=(1,1)):\n",
    "    \"\"\"\n",
    "    Convert a list of filenames into a sparse csr_matrix, where\n",
    "    each row is a file and each column represents a unique word.\n",
    "    Use sklearn's CountVectorizer: http://goo.gl/eJ2PJ5\n",
    "    Params:\n",
    "        filenames.......list of review file names\n",
    "        tokenizer_fn....the function used to tokenize each document\n",
    "        min_df..........remove terms from the vocabulary that don't appear\n",
    "                        in at least this many documents\n",
    "        max_df..........remove terms from the vocabulary that appear in more\n",
    "                        than this fraction of documents\n",
    "        binary..........If true, each documents is represented by a binary\n",
    "                        vector, where 1 means a term occurs at least once in \n",
    "                        the document. If false, the term frequency is used instead.\n",
    "        ngram_range.....A tuple (n,m) means to use phrases of length n to m inclusive.\n",
    "                        E.g., (1,2) means consider unigrams and bigrams.\n",
    "    Return:\n",
    "        A tuple (X, vec), where X is the csr_matrix of feature vectors,\n",
    "        and vec is the CountVectorizer object.\n",
    "    \"\"\"\n",
    "    fp = open(filename,'r')\n",
    "    contentList = []\n",
    "    line = fp.readline()\n",
    "    while line:\n",
    "        contentList.append(line)\n",
    "        line = fp.readline()\n",
    "    vectorizer = CountVectorizer(input = 'content', tokenizer = tokenizer_fn, max_df = max_df, min_df = min_df, binary = binary, dtype = int)\n",
    "    X = vectorizer.fit_transform(contentList)\n",
    "    return (X,vectorizer)\n",
    "\n",
    "#vectorizing ios data   \n",
    "matrixios, vecios = do_vectorize(trainiosfilename)\n",
    "print ('matrix ios represents %d tweets with %d features' % (matrixios.shape[0], matrixios.shape[1]))\n",
    "print('first doc has terms:\\n%s' % (str(sorted(matrixios[0].nonzero()[1]))))\n",
    "\n",
    "#vectorizing android data\n",
    "matrixandroid, vecandroid = do_vectorize(trainandroidfilename)\n",
    "print ('matrix android represents %d tweets with %d features' % (matrixandroid.shape[0], matrixandroid.shape[1]))\n",
    "print('first doc has terms:\\n%s' % (str(sorted(matrixandroid[0].nonzero()[1]))))"
   ]
  },
  {
   "cell_type": "code",
   "execution_count": 35,
   "metadata": {
    "collapsed": false
   },
   "outputs": [
    {
     "name": "stdout",
     "output_type": "stream",
     "text": [
      "498\n",
      "first shuffled document p-linkedin brings its refreshed â€˜voyagerâ€™ app to ios and android URL \r\n",
      " has label 1 and terms: [12, 289, 292, 300, 380, 803, 826, 890, 1054, 1145, 1330, 1372, 1401, 1483, 1491, 1500, 1501]\n",
      "477\n",
      "first shuffled document n-apple https://t.co/zhzx2udjg3\n",
      " has label 0 and terms: [12, 13, 14, 241, 322, 487, 859, 1168, 1585, 1882]\n"
     ]
    }
   ],
   "source": [
    "def repeatable_random(seed):\n",
    "    hash = str(seed)\n",
    "    while True:\n",
    "        hash = hashlib.md5(hash).digest()\n",
    "        for c in hash:\n",
    "            yield ord(c)\n",
    "\n",
    "def repeatable_shuffle(X, y, filenames):\n",
    "    print X.shape[0]\n",
    "    r = repeatable_random(42) \n",
    "    indices = sorted(range(X.shape[0]), key=lambda x: next(r))\n",
    "    if indices == 477:\n",
    "        print np.array(filenames)[indices]\n",
    "        return X[indices], 0, np.array(filenames)[indices]\n",
    "    return X[indices], y[indices], np.array(filenames)[indices]\n",
    "\n",
    "# shuffling ios data\n",
    "trainiosTweets = []\n",
    "trainiOSFiles = open(trainiosfilename,'r')\n",
    "trainiOSTweet = trainiOSFiles.readline()\n",
    "while trainiOSTweet:\n",
    "    trainiosTweets.append(trainiOSTweet)\n",
    "    trainiOSTweet = trainiOSFiles.readline()\n",
    "\n",
    "# shuffling android data  \n",
    "X_ios, y_ios, filenames_ios = repeatable_shuffle(matrixios, labels_ios, trainiosTweets)\n",
    "\n",
    "print('first shuffled document %s has label %d and terms: %s' % \n",
    "      (filenames_ios[0], y_ios[0], sorted(X_ios[0].nonzero()[1])))\n",
    "\n",
    "trainandroidTweets = []\n",
    "trainandroidFiles = open(trainandroidfilename,'r')\n",
    "trainandroidTweet = trainandroidFiles.readline()\n",
    "while trainandroidTweet:\n",
    "    trainandroidTweets.append(trainandroidTweet)\n",
    "    trainandroidTweet = trainandroidFiles.readline()\n",
    "\n",
    "    \n",
    "X_android, y_android, filenames_android = repeatable_shuffle(matrixandroid, labels_android, trainandroidTweets)\n",
    "\n",
    "print('first shuffled document %s has label %d and terms: %s' % \n",
    "      (filenames_android[0], y_android[0], sorted(X_android[0].nonzero()[1])))"
   ]
  },
  {
   "cell_type": "code",
   "execution_count": 36,
   "metadata": {
    "collapsed": true
   },
   "outputs": [],
   "source": [
    "def get_clf():\n",
    "    return LogisticRegression(random_state=42)"
   ]
  },
  {
   "cell_type": "code",
   "execution_count": 37,
   "metadata": {
    "collapsed": false
   },
   "outputs": [
    {
     "name": "stdout",
     "output_type": "stream",
     "text": [
      "Fold 0 accuracy = 1.0\n",
      "Fold 1 accuracy = 0.993975903614\n",
      "Fold 2 accuracy = 1.0\n",
      "average cross validation accuracy=0.9980\n",
      "Fold 0 accuracy = 1.0\n",
      "Fold 1 accuracy = 0.993710691824\n",
      "Fold 2 accuracy = 1.0\n",
      "average cross validation accuracy=0.9979\n"
     ]
    }
   ],
   "source": [
    "def do_cross_validation(X, y, n_folds=3, verbose=False):\n",
    "    \"\"\"\n",
    "    Perform n-fold cross validation, calling get_clf() to train n\n",
    "    different classifiers. Use sklearn's KFold class: http://goo.gl/wmyFhi\n",
    "    Be sure not to shuffle the data, otherwise your output will differ.\n",
    "    Params:\n",
    "        X.........a csr_matrix of feature vectors\n",
    "        y.........the true labels of each document\n",
    "        n_folds...the number of folds of cross-validation to do\n",
    "        verbose...If true, report the testing accuracy for each fold.\n",
    "    Return:\n",
    "        the average testing accuracy across all folds.\n",
    "    \"\"\"\n",
    "    cv = KFold(len(y), n_folds)\n",
    "    i = 0\n",
    "    accuracies = []\n",
    "    for train_idx, test_idx in cv:\n",
    "        clf = get_clf()\n",
    "        clf.fit(X[train_idx], y[train_idx])\n",
    "        predicted = clf.predict(X[test_idx])\n",
    "        acc = accuracy_score(y[test_idx], predicted)\n",
    "        if verbose :\n",
    "            print(\"Fold {} accuracy = {}\".format(i,acc))\n",
    "        i = i + 1\n",
    "        accuracies.append(acc)\n",
    "    avg = np.mean(accuracies)\n",
    "    return avg\n",
    "    \n",
    "print('average cross validation accuracy=%.4f' %\n",
    "      do_cross_validation(X_ios, y_ios, verbose=True))\n",
    "print('average cross validation accuracy=%.4f' %\n",
    "      do_cross_validation(X_android, y_android, verbose=True))"
   ]
  },
  {
   "cell_type": "markdown",
   "metadata": {},
   "source": [
    "#Verifying Accuracies\n",
    "of Logistic Regression for different combinations"
   ]
  },
  {
   "cell_type": "code",
   "execution_count": 38,
   "metadata": {
    "collapsed": false
   },
   "outputs": [],
   "source": [
    "def do_expt(filenames, y, tokenizer_fn=tokenize_with_not,\n",
    "            min_df=10, max_df=1., binary=True,\n",
    "            ngram_range=(1,1), n_folds=5,algorithm=\"LogisticRegression\"):\n",
    "    \"\"\"\n",
    "    Run one experiment, which consists of vectorizing each file,\n",
    "    performing cross-validation, and returning the average accuracy.\n",
    "    You should call do_vectorize and do_cross_validation here.\n",
    "    Params:\n",
    "        filenames.......list of review file names\n",
    "        y...............the true sentiment labels for each file\n",
    "        tokenizer_fn....the function used to tokenize each document\n",
    "        min_df..........remove terms from the vocabulary that don't appear\n",
    "                        in at least this many documents\n",
    "        max_df..........remove terms from the vocabulary that appear in more\n",
    "                        than this fraction of documents\n",
    "        binary..........If true, each documents is represented by a binary\n",
    "                        vector, where 1 means a term occurs at least once in \n",
    "                        the document. If false, the term frequency is used instead.\n",
    "        ngram_range.....A tuple (n,m) means to use phrases of length n to m inclusive.\n",
    "                        E.g., (1,2) means consider unigrams and bigrams.\n",
    "        n_folds.........The number of cross-validation folds to use.\n",
    "    Returns:\n",
    "        the average cross validation testing accuracy.\n",
    "    \"\"\"\n",
    "    matrix,vec=do_vectorize(filenames,tokenizer_fn, min_df, max_df, binary, ngram_range)\n",
    "    if algorithm == \"NaiveBayes\":\n",
    "        accuracy=do_cross_validation_naive(n_folds, verbose=False)\n",
    "    elif algorithm == \"LogisticRegression\":\n",
    "        accuracy = do_cross_validation(matrix,y,n_folds,verbose=False)\n",
    "    return accuracy"
   ]
  },
  {
   "cell_type": "code",
   "execution_count": 39,
   "metadata": {
    "collapsed": false
   },
   "outputs": [
    {
     "name": "stdout",
     "output_type": "stream",
     "text": [
      "accuracy using default settings for LogisticRegression: 0.8093\n",
      "accuracy using default settings for LogisticRegression: 0.8009\n"
     ]
    }
   ],
   "source": [
    "print('accuracy using default settings for LogisticRegression: %.4g' % do_expt(trainiosfilename, y_ios))\n",
    "print('accuracy using default settings for LogisticRegression: %.4g' % do_expt(trainandroidfilename, y_android))"
   ]
  },
  {
   "cell_type": "code",
   "execution_count": 40,
   "metadata": {
    "collapsed": false
   },
   "outputs": [
    {
     "data": {
      "image/png": "[encoded data removed]",
      "text/plain": [
       "<matplotlib.figure.Figure at 0x10b3a7810>"
      ]
     },
     "metadata": {},
     "output_type": "display_data"
    },
    {
     "data": {
      "image/png": "[encoded data removed]",
      "text/plain": [
       "<matplotlib.figure.Figure at 0x10b6b9990>"
      ]
     },
     "metadata": {},
     "output_type": "display_data"
    },
    {
     "data": {
      "text/plain": [
       "[0.79453957315143631,\n",
       " 0.80085526315789468,\n",
       " 0.80292553191489358,\n",
       " 0.80099637681159419]"
      ]
     },
     "execution_count": 40,
     "metadata": {},
     "output_type": "execute_result"
    }
   ],
   "source": [
    "def compare_n_folds(filenames, y):\n",
    "    \"\"\"\n",
    "    Vary the setting of n_folds parameter in the do_expt \n",
    "    function to be in [2,5,10,20]. For each setting, call do_expt and \n",
    "    store the resulting accuracy. Plot the accuracies for each setting.\n",
    "    Also return the list of accuracies. Use the default value for all\n",
    "    other arguments to the do_expt function.\n",
    "    Params:\n",
    "        filenames....list of training file names\n",
    "        y............true labels for each file (a numpy array)\n",
    "    Returns:\n",
    "        a list of average testing accuracies, one per fold.\n",
    "    \"\"\"\n",
    "    ###TODO\n",
    "    arr_nfolds = [2,5,10,20]\n",
    "    accuracyList = []\n",
    "    for nfold in arr_nfolds:\n",
    "        accuracy = do_expt(filenames, y, n_folds = nfold)\n",
    "        accuracyList.append(accuracy)\n",
    "    plt.figure()\n",
    "    plt.plot(arr_nfolds,accuracyList, marker=\"s\")\n",
    "    plt.ylabel('accuracy')\n",
    "    plt.xlabel('nfold')\n",
    "    plt.show()\n",
    "    return accuracyList\n",
    "    ###\n",
    "    \n",
    "compare_n_folds(trainiosfilename, y_ios)\n",
    "compare_n_folds(trainandroidfilename, y_android)"
   ]
  },
  {
   "cell_type": "code",
   "execution_count": 41,
   "metadata": {
    "collapsed": true
   },
   "outputs": [],
   "source": [
    "def tokenizer_expt(y,filename):\n",
    "    \"\"\"\n",
    "    How does the tokenizer affect results? \n",
    "    Call do_expt three times, using three different tokenizers:\n",
    "    1- tokenize\n",
    "    2- tokenize_with_punct\n",
    "    3- tokenize_with_not\n",
    "    Return the average cross-validation accuracy for each approach,\n",
    "    in the above order. Use the default parameters for all other \n",
    "    arguments to do_expt.\n",
    "    Params:\n",
    "        filenames....list of training file names\n",
    "        y............true labels for each file (a numpy array)\n",
    "    Returns:\n",
    "        a list of average testing accuracies for each tokenizer.\n",
    "    \"\"\"\n",
    "    accuracyList = []\n",
    "    accuracyList.append(do_expt(filename,y,tokenizer_fn = tokenize))\n",
    "    accuracyList.append(do_expt(filename,y,tokenizer_fn = tokenize_with_punct))\n",
    "    accuracyList.append(do_expt(filename,y,tokenizer_fn = tokenize_with_not))\n",
    "    return accuracyList"
   ]
  },
  {
   "cell_type": "code",
   "execution_count": 42,
   "metadata": {
    "collapsed": false
   },
   "outputs": [
    {
     "name": "stdout",
     "output_type": "stream",
     "text": [
      "IOS\n",
      "[0.81531313131313132, 0.80925252525252522, 0.80925252525252522]\n",
      "Android\n",
      "[0.80293859649122812, 0.80293859649122812, 0.80085526315789468]\n"
     ]
    }
   ],
   "source": [
    "print \"IOS\"\n",
    "print tokenizer_expt(y_ios,\"data/train_ios.txt\")\n",
    "print \"Android\"\n",
    "print tokenizer_expt(y_android,\"data/train_android.txt\")"
   ]
  },
  {
   "cell_type": "code",
   "execution_count": 43,
   "metadata": {
    "collapsed": false
   },
   "outputs": [
    {
     "data": {
      "image/png": "[encoded data removed]",
      "text/plain": [
       "<matplotlib.figure.Figure at 0x10b675750>"
      ]
     },
     "metadata": {},
     "output_type": "display_data"
    },
    {
     "data": {
      "image/png": "[encoded data removed]",
      "text/plain": [
       "<matplotlib.figure.Figure at 0x10b959050>"
      ]
     },
     "metadata": {},
     "output_type": "display_data"
    },
    {
     "data": {
      "text/plain": [
       "[0.79868421052631577,\n",
       " 0.7840350877192982,\n",
       " 0.78614035087719303,\n",
       " 0.7924342105263158,\n",
       " 0.80293859649122812,\n",
       " 0.80085526315789468,\n",
       " 0.80504385964912273,\n",
       " 0.8029605263157894,\n",
       " 0.80504385964912273,\n",
       " 0.80085526315789468]"
      ]
     },
     "execution_count": 43,
     "metadata": {},
     "output_type": "execute_result"
    }
   ],
   "source": [
    "def min_df_expt(filenames, y):\n",
    "    \"\"\"\n",
    "    Vary the setting of min_df parameter in the do_expt \n",
    "    function to be ints in the range (1,10) (inclusive). For each setting,\n",
    "    call do_expt and store the resulting accuracy. Plot the accuracies for each setting.\n",
    "    Also return the list of accuracies. Use the default value for all\n",
    "    other arguments to the do_expt function, except that the tokenizer\n",
    "    should be tokenize_with_not.\n",
    "    Params:\n",
    "        filenames....list of training file names\n",
    "        y............true labels for each file (a numpy array)\n",
    "    Returns:\n",
    "        a list of average testing accuracies, one per min_df value.\n",
    "    \"\"\"\n",
    "    min_dfList = [1,2,3,4,5,6,7,8,9,10]\n",
    "    accuracyList= []\n",
    "    for min_df in min_dfList:\n",
    "        accuracyList.append(do_expt(filenames,y,min_df=min_df,tokenizer_fn=tokenize_with_not))\n",
    "    plt.figure()\n",
    "    plt.plot(min_dfList,accuracyList, marker=\"s\")\n",
    "    plt.ylabel('accuracy')\n",
    "    plt.xlabel('min_df')\n",
    "    plt.show()\n",
    "    return accuracyList\n",
    "\n",
    "min_df_expt(trainiosfilename,y_ios)\n",
    "min_df_expt(trainandroidfilename,y_android)"
   ]
  },
  {
   "cell_type": "code",
   "execution_count": 44,
   "metadata": {
    "collapsed": false,
    "scrolled": true
   },
   "outputs": [
    {
     "data": {
      "image/png": "[encoded data removed]",
      "text/plain": [
       "<matplotlib.figure.Figure at 0x10bd2cb50>"
      ]
     },
     "metadata": {},
     "output_type": "display_data"
    },
    {
     "data": {
      "image/png": "[encoded data removed]",
      "text/plain": [
       "<matplotlib.figure.Figure at 0x10c0a8f50>"
      ]
     },
     "metadata": {},
     "output_type": "display_data"
    },
    {
     "data": {
      "text/plain": [
       "[0.78824561403508775,\n",
       " 0.78611842105263163,\n",
       " 0.78611842105263163,\n",
       " 0.78611842105263163,\n",
       " 0.78611842105263163,\n",
       " 0.78611842105263163,\n",
       " 0.78611842105263163,\n",
       " 0.78611842105263163,\n",
       " 0.7840350877192982,\n",
       " 0.7840350877192982]"
      ]
     },
     "execution_count": 44,
     "metadata": {},
     "output_type": "execute_result"
    }
   ],
   "source": [
    "def max_df_expt(filenames, y):\n",
    "    \"\"\"\n",
    "    Vary the setting of max_df parameter in the do_expt \n",
    "    function to be one of [.1, .2, .3, .4, .5, .6, .7, .8, .9, 1.].\n",
    "    For each setting, call do_expt and store the resulting accuracy.\n",
    "    Plot the accuracies for each setting. Also return the list of accuracies.\n",
    "    Use the default value for all other arguments to the do_expt function,\n",
    "    except that the tokenizer=tokenize_with_not and min_df=2.\n",
    "    Params:\n",
    "        filenames....list of training file names\n",
    "        y............true labels for each file (a numpy array)\n",
    "    Returns:\n",
    "        a list of average testing accuracies, one per max_df value.\n",
    "    \"\"\"\n",
    "    max_dfList = [.1, .2, .3, .4, .5, .6, .7, .8, .9, 1.]\n",
    "    accuracyList= []\n",
    "    for max_df in max_dfList:\n",
    "        accuracyList.append(do_expt(filenames,y,max_df=max_df, min_df = 2, tokenizer_fn=tokenize_with_not))\n",
    "    plt.figure()\n",
    "    plt.plot(max_dfList,accuracyList, marker=\"s\")\n",
    "    plt.ylabel('accuracy')\n",
    "    plt.xlabel('max_df')\n",
    "    plt.show()\n",
    "    return accuracyList\n",
    "\n",
    "max_df_expt(trainiosfilename,y_ios)\n",
    "max_df_expt(trainandroidfilename,y_android)"
   ]
  },
  {
   "cell_type": "code",
   "execution_count": 57,
   "metadata": {
    "collapsed": false
   },
   "outputs": [
    {
     "data": {
      "text/plain": [
       "LogisticRegression(C=1.0, class_weight=None, dual=False, fit_intercept=True,\n",
       "          intercept_scaling=1, max_iter=100, multi_class='ovr',\n",
       "          penalty='l2', random_state=42, solver='liblinear', tol=0.0001,\n",
       "          verbose=0)"
      ]
     },
     "execution_count": 57,
     "metadata": {},
     "output_type": "execute_result"
    }
   ],
   "source": [
    "# training classifier using the optimal settings\n",
    "X_ios, vec_ios = do_vectorize(trainiosfilename, tokenizer_fn=tokenize_with_not,\n",
    "                      binary=True, min_df=7, max_df=.1)\n",
    "clf_ios = get_clf()\n",
    "clf_ios.fit(X_ios, y_ios)\n",
    "\n",
    "X_android, vec_android = do_vectorize(trainandroidfilename, tokenizer_fn=tokenize_with_not,\n",
    "                      binary=True, min_df=7, max_df=.1)\n",
    "clf_android = get_clf()\n",
    "clf_android.fit(X_android, y_android)"
   ]
  },
  {
   "cell_type": "code",
   "execution_count": 71,
   "metadata": {
    "collapsed": false,
    "scrolled": true
   },
   "outputs": [],
   "source": [
    "def test_new_data(filename,typeOftest):\n",
    "    fp = open(filename,'r')\n",
    "    contentList = []\n",
    "    line = fp.readline()\n",
    "    while line:\n",
    "        contentList.append(line)\n",
    "        line = fp.readline()\n",
    "    if typeOftest == \"ios\":\n",
    "        X_test = vec_ios.transform(contentList)\n",
    "        print('X_test represents %d documents with %d features' % (X_test.shape[0], X_test.shape[1]))\n",
    "        predicted = clf_ios.predict(X_test)\n",
    "        return predicted\n",
    "    elif typeOftest == \"android\":\n",
    "        X_test = vec_android.transform(contentList)\n",
    "        print('X_test represents %d documents with %d features' % (X_test.shape[0], X_test.shape[1]))\n",
    "        predicted = clf_android.predict(X_test)\n",
    "        return predicted"
   ]
  },
  {
   "cell_type": "code",
   "execution_count": 79,
   "metadata": {
    "collapsed": true
   },
   "outputs": [],
   "source": [
    "def getLogisticRegressionResults(filename,osType):\n",
    "    result = test_new_data(filename,osType)\n",
    "    positiveTweets = 0\n",
    "    negativeTweets = 0\n",
    "    neutralTweets = 0\n",
    "    totalTweetsAnalyzed = len(result)\n",
    "    for arr in result:\n",
    "        if arr == -1:\n",
    "            neutralTweets += 1\n",
    "        elif arr == 0:\n",
    "            negativeTweets += 1\n",
    "        elif arr == 1:\n",
    "            positiveTweets += 1\n",
    "    percentPositive = ((positiveTweets)/(totalTweetsAnalyzed)) * 100\n",
    "    percentNegative = ((negativeTweets)/(totalTweetsAnalyzed)) * 100\n",
    "    percentNeutral = ((neutralTweets)/(totalTweetsAnalyzed)) * 100\n",
    "    print \"Positive Percentage \" + str(percentPositive)\n",
    "    print \"Negative Percentage \" + str(percentNegative)\n",
    "    print \"Neutral Percentage \" + str(percentNeutral)\n",
    "    \n",
    "    if(percentPositive > percentNegative):\n",
    "        print \"Users prefer \"+osType+\" more!!\"\n",
    "    elif(percentPositive < percentNegative):\n",
    "        print \"Users dont prefer \"+osType+\"!!\"\n",
    "    elif(percentPositive == percentNegative):\n",
    "        print \"User preferences are neutral\"\n",
    "    return [positiveTweets, neutralTweets, negativeTweets]"
   ]
  },
  {
   "cell_type": "code",
   "execution_count": 83,
   "metadata": {
    "collapsed": false
   },
   "outputs": [
    {
     "name": "stdout",
     "output_type": "stream",
     "text": [
      "=======================Analysis of android tweets==========================\n",
      "X_test represents 500 documents with 138 features\n",
      "Positive Percentage 0.2\n",
      "Negative Percentage 0.0\n",
      "Neutral Percentage 99.8\n",
      "Users prefer android more!!\n",
      "=======================Analysis of iOS tweets==========================\n",
      "X_test represents 500 documents with 137 features\n",
      "Positive Percentage 0.4\n",
      "Negative Percentage 0.0\n",
      "Neutral Percentage 99.6\n",
      "Users prefer ios more!!\n"
     ]
    },
    {
     "data": {
      "image/png": "[encoded data removed]",
      "text/plain": [
       "<matplotlib.figure.Figure at 0x10b7e00d0>"
      ]
     },
     "metadata": {},
     "output_type": "display_data"
    }
   ],
   "source": [
    "print \"=======================Analysis of android tweets==========================\"\n",
    "classification1 = getLogisticRegressionResults('data/test_500android.txt',\"android\")\n",
    "print \"=======================Analysis of iOS tweets==========================\"\n",
    "classification2 = getLogisticRegressionResults('data/test_500ios.txt',\"ios\")\n",
    "dataRange = np.arange(0,500,50)\n",
    "plotBarGraph(classification1,classification2,dataRange)\n",
    "    "
   ]
  },
  {
   "cell_type": "code",
   "execution_count": 84,
   "metadata": {
    "collapsed": false
   },
   "outputs": [
    {
     "name": "stdout",
     "output_type": "stream",
     "text": [
      "=======================Analysis of Android tweets==========================\n",
      "X_test represents 1000 documents with 138 features\n",
      "Positive Percentage 0.5\n",
      "Negative Percentage 0.0\n",
      "Neutral Percentage 99.5\n",
      "Users prefer android more!!\n",
      "=======================Analysis of iOS tweets==========================\n",
      "X_test represents 1000 documents with 137 features\n",
      "Positive Percentage 0.3\n",
      "Negative Percentage 0.0\n",
      "Neutral Percentage 99.7\n",
      "Users prefer ios more!!\n"
     ]
    },
    {
     "data": {
      "image/png": "[encoded data removed]",
      "text/plain": [
       "<matplotlib.figure.Figure at 0x10b6ad490>"
      ]
     },
     "metadata": {},
     "output_type": "display_data"
    }
   ],
   "source": [
    "print \"=======================Analysis of Android tweets==========================\"\n",
    "classification1 = getLogisticRegressionResults('data/test_1000android.txt',\"android\")\n",
    "print \"=======================Analysis of iOS tweets==========================\"\n",
    "classification2 = getLogisticRegressionResults('data/test_1000ios.txt',\"ios\")\n",
    "dataRange = np.arange(0,1000,100)\n",
    "plotBarGraph(classification1,classification2,dataRange)"
   ]
  },
  {
   "cell_type": "code",
   "execution_count": 85,
   "metadata": {
    "collapsed": false
   },
   "outputs": [
    {
     "name": "stdout",
     "output_type": "stream",
     "text": [
      "=======================Analysis of Android tweets==========================\n",
      "X_test represents 1500 documents with 138 features\n",
      "Positive Percentage 0.466666666667\n",
      "Negative Percentage 0.0\n",
      "Neutral Percentage 99.5333333333\n",
      "Users prefer android more!!\n",
      "=======================Analysis of iOS tweets==========================\n",
      "X_test represents 1500 documents with 137 features\n",
      "Positive Percentage 0.733333333333\n",
      "Negative Percentage 0.0666666666667\n",
      "Neutral Percentage 99.2\n",
      "Users prefer ios more!!\n"
     ]
    },
    {
     "data": {
      "image/png": "[encoded data removed]",
      "text/plain": [
       "<matplotlib.figure.Figure at 0x10bfa7b10>"
      ]
     },
     "metadata": {},
     "output_type": "display_data"
    }
   ],
   "source": [
    "print \"=======================Analysis of Android tweets==========================\"\n",
    "classification1 = getLogisticRegressionResults('data/test_1500android.txt',\"android\")\n",
    "print \"=======================Analysis of iOS tweets==========================\"\n",
    "classification2 = getLogisticRegressionResults('data/test_1500ios.txt',\"ios\")\n",
    "dataRange = np.arange(0,1500,100)\n",
    "plotBarGraph(classification1,classification2,dataRange)"
   ]
  },
  {
   "cell_type": "markdown",
   "metadata": {},
   "source": [
    "#Conclusion - \n",
    "Naive Bayes classifier gives more correct classification for smaller datasets.\n",
    "Logistic regression starts to show some result for 1500 tweets.\n",
    "Also, we have a lot of neutral tweets in our data set, that also affects logistic regression, as logistic regression is generally preferred for boolean data sets"
   ]
  }
 ],
 "metadata": {
  "kernelspec": {
   "display_name": "Python 2",
   "language": "python",
   "name": "python2"
  },
  "language_info": {
   "codemirror_mode": {
    "name": "ipython",
    "version": 2
   },
   "file_extension": ".py",
   "mimetype": "text/x-python",
   "name": "python",
   "nbconvert_exporter": "python",
   "pygments_lexer": "ipython2",
   "version": "2.7.10"
  }
 },
 "nbformat": 4,
 "nbformat_minor": 0
}
